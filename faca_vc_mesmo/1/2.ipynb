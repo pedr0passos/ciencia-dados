{
 "cells": [
  {
   "cell_type": "code",
   "execution_count": 1,
   "id": "07319680-c21d-4c75-9909-8ee2e62b042e",
   "metadata": {},
   "outputs": [
    {
     "name": "stdout",
     "output_type": "stream",
     "text": [
      "p\n",
      "y\n",
      "t\n",
      "h\n",
      "o\n",
      "n\n"
     ]
    }
   ],
   "source": [
    "def imprime_vertical(string):\n",
    "    for i in range(0, len(string)):\n",
    "        print(string[i])"
   ]
  },
  {
   "cell_type": "code",
   "execution_count": 3,
   "id": "20a2d3c1-d7ec-4888-a7dd-fee4662a2f8d",
   "metadata": {},
   "outputs": [
    {
     "name": "stdin",
     "output_type": "stream",
     "text": [
      "Digite a palavra para dividi-la:  pedro henrique passos rocha\n"
     ]
    },
    {
     "name": "stdout",
     "output_type": "stream",
     "text": [
      "p\n",
      "e\n",
      "d\n",
      "r\n",
      "o\n",
      " \n",
      "h\n",
      "e\n",
      "n\n",
      "r\n",
      "i\n",
      "q\n",
      "u\n",
      "e\n",
      " \n",
      "p\n",
      "a\n",
      "s\n",
      "s\n",
      "o\n",
      "s\n",
      " \n",
      "r\n",
      "o\n",
      "c\n",
      "h\n",
      "a\n"
     ]
    }
   ],
   "source": [
    "palavra = input('Digite a palavra para dividi-la: ')\n",
    "imprime_vertical(palavra)"
   ]
  },
  {
   "cell_type": "code",
   "execution_count": null,
   "id": "66f6e4af-0716-44e8-9c1f-ed48d4be0b65",
   "metadata": {},
   "outputs": [],
   "source": []
  }
 ],
 "metadata": {
  "kernelspec": {
   "display_name": "Python 3 (ipykernel)",
   "language": "python",
   "name": "python3"
  },
  "language_info": {
   "codemirror_mode": {
    "name": "ipython",
    "version": 3
   },
   "file_extension": ".py",
   "mimetype": "text/x-python",
   "name": "python",
   "nbconvert_exporter": "python",
   "pygments_lexer": "ipython3",
   "version": "3.9.13"
  }
 },
 "nbformat": 4,
 "nbformat_minor": 5
}
