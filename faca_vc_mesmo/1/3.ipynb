{
 "cells": [
  {
   "cell_type": "code",
   "execution_count": 1,
   "id": "b52835f4-9226-4b30-adf7-e242ee38b170",
   "metadata": {},
   "outputs": [],
   "source": [
    "def calcula_valor(peso):\n",
    "    if 0 < peso <= 10:\n",
    "        print('Valor = R$50,00')\n",
    "    elif 10 < peso < 20:\n",
    "        print('Valor = R$80,00')\n",
    "    else: \n",
    "        print('Valor Inválido')"
   ]
  },
  {
   "cell_type": "code",
   "execution_count": 2,
   "id": "29a6b199-5950-4222-9bd6-cd60f022b32a",
   "metadata": {},
   "outputs": [
    {
     "name": "stdin",
     "output_type": "stream",
     "text": [
      "Peso:  15\n"
     ]
    },
    {
     "name": "stdout",
     "output_type": "stream",
     "text": [
      "Valor = R$80,00\n"
     ]
    }
   ],
   "source": [
    "carga = int(input('Peso: '))\n",
    "calcula_valor(carga)"
   ]
  },
  {
   "cell_type": "code",
   "execution_count": null,
   "id": "c021b202-07cc-4c47-ab90-f6ac0bfd5fe4",
   "metadata": {},
   "outputs": [],
   "source": []
  }
 ],
 "metadata": {
  "kernelspec": {
   "display_name": "Python 3 (ipykernel)",
   "language": "python",
   "name": "python3"
  },
  "language_info": {
   "codemirror_mode": {
    "name": "ipython",
    "version": 3
   },
   "file_extension": ".py",
   "mimetype": "text/x-python",
   "name": "python",
   "nbconvert_exporter": "python",
   "pygments_lexer": "ipython3",
   "version": "3.9.13"
  }
 },
 "nbformat": 4,
 "nbformat_minor": 5
}
