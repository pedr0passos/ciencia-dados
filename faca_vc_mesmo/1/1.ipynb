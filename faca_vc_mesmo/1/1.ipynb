{
 "cells": [
  {
   "cell_type": "code",
   "execution_count": 1,
   "id": "91d8ceeb-e252-4c86-9f41-67e4bca730c5",
   "metadata": {},
   "outputs": [],
   "source": [
    "def amplitude(lista):\n",
    "    return (max(lista) - min(lista))"
   ]
  },
  {
   "cell_type": "code",
   "execution_count": 4,
   "id": "e3a09e19-e336-4de7-b069-16a5e7ce8c48",
   "metadata": {},
   "outputs": [
    {
     "name": "stdout",
     "output_type": "stream",
     "text": [
      "Amplitude: 89\n"
     ]
    }
   ],
   "source": [
    "valores = [1,45,2,8,6,90,4]\n",
    "amp = amplitude(valores)\n",
    "\n",
    "print('Amplitude:', amp)"
   ]
  }
 ],
 "metadata": {
  "kernelspec": {
   "display_name": "Python 3 (ipykernel)",
   "language": "python",
   "name": "python3"
  },
  "language_info": {
   "codemirror_mode": {
    "name": "ipython",
    "version": 3
   },
   "file_extension": ".py",
   "mimetype": "text/x-python",
   "name": "python",
   "nbconvert_exporter": "python",
   "pygments_lexer": "ipython3",
   "version": "3.9.13"
  }
 },
 "nbformat": 4,
 "nbformat_minor": 5
}
