{
 "cells": [
  {
   "cell_type": "code",
   "execution_count": 20,
   "id": "3adfe0a8-96ae-4c68-a225-973f6946aa24",
   "metadata": {},
   "outputs": [],
   "source": [
    "# importando a numpy \n",
    "import numpy as np \n",
    "\n",
    "def pl():\n",
    "    print('------------------------------')"
   ]
  },
  {
   "cell_type": "code",
   "execution_count": 5,
   "id": "15bf7267-6401-487a-9688-5bf703406561",
   "metadata": {},
   "outputs": [
    {
     "name": "stdout",
     "output_type": "stream",
     "text": [
      "[ 12  23   1   5 543  10]\n",
      "<class 'numpy.ndarray'>\n"
     ]
    }
   ],
   "source": [
    "# criando uma matriz unidimensional ( vetor )\n",
    "matriz = np.array([12,23,1,5,543,10])\n",
    "print(matriz)\n",
    "print(type(matriz))"
   ]
  },
  {
   "cell_type": "code",
   "execution_count": 8,
   "id": "92380fa0-cdd4-485f-8cc1-eb44e6635e7c",
   "metadata": {},
   "outputs": [
    {
     "name": "stdout",
     "output_type": "stream",
     "text": [
      "[1. 2. 3.]\n",
      "<class 'numpy.ndarray'>\n",
      "[1 2 3]\n",
      "<class 'numpy.ndarray'>\n"
     ]
    }
   ],
   "source": [
    "# criar o array com um tipo específico \n",
    "# cria o array como float de 64bits\n",
    "\n",
    "mt_float = np.array([1,2,3], dtype = np.float64)\n",
    "print(mt_float)\n",
    "print(type(mt_float))\n",
    "mt_int = np.array([1,2,3], dtype = np.int32)\n",
    "print(mt_int)\n",
    "print(type(mt_int))"
   ]
  },
  {
   "cell_type": "code",
   "execution_count": 10,
   "id": "a46e72fc-9e6b-438e-9f94-50c4015bda91",
   "metadata": {},
   "outputs": [
    {
     "name": "stdout",
     "output_type": "stream",
     "text": [
      "[1.4 5.2 8.8]\n",
      "[1 5 8]\n"
     ]
    }
   ],
   "source": [
    "# mudando o tipo do array\n",
    "\n",
    "mt_new = np.array([1.4,5.2,8.8])\n",
    "print(mt_new)\n",
    "\n",
    "# quando fazemos uma transformação de float -> int, os valores são truncados\n",
    "mt_new_int = mt_new.astype(np.int32)\n",
    "print(mt_new_int)"
   ]
  },
  {
   "cell_type": "code",
   "execution_count": 12,
   "id": "0a985ceb-1272-469a-88d1-c27a2f3e6536",
   "metadata": {},
   "outputs": [
    {
     "name": "stdout",
     "output_type": "stream",
     "text": [
      "[1 2 3 4]\n",
      "[1. 2. 3. 4.]\n"
     ]
    }
   ],
   "source": [
    "# transoformando de int -> float\n",
    "\n",
    "mt5 = np.array([1,2,3,4])\n",
    "print(mt5)\n",
    "mt6 = mt5.astype(float)\n",
    "print(mt6)"
   ]
  },
  {
   "cell_type": "code",
   "execution_count": 14,
   "id": "232d0539-efcc-4eac-b1ea-fa4e0c29d997",
   "metadata": {},
   "outputs": [
    {
     "name": "stdout",
     "output_type": "stream",
     "text": [
      "[[ 7  2  4]\n",
      " [ 4  4  4]\n",
      " [ 9 12  5]]\n"
     ]
    }
   ],
   "source": [
    "# criando matrizes com mais de uma dimensão \n",
    "\n",
    "mt7 = np.array([[7,2,4], [4,4,4],[9,12,5]])\n",
    "print(mt7)"
   ]
  },
  {
   "cell_type": "code",
   "execution_count": 23,
   "id": "fa3903a9-e0ef-4daf-bade-ae5d94967510",
   "metadata": {},
   "outputs": [
    {
     "name": "stdout",
     "output_type": "stream",
     "text": [
      "[[ 1717986918  1073112678]\n",
      " [ -858993459  1075104972]\n",
      " [-1717986918  1075943833]]\n",
      "------------------------------\n",
      "[[0. 0. 0.]\n",
      " [0. 0. 0.]\n",
      " [0. 0. 0.]\n",
      " [0. 0. 0.]]\n",
      "------------------------------\n",
      "[[1. 1. 1. 1. 1. 1. 1.]\n",
      " [1. 1. 1. 1. 1. 1. 1.]\n",
      " [1. 1. 1. 1. 1. 1. 1.]\n",
      " [1. 1. 1. 1. 1. 1. 1.]\n",
      " [1. 1. 1. 1. 1. 1. 1.]]\n",
      "------------------------------\n",
      "[[1. 0. 0. 0. 0.]\n",
      " [0. 1. 0. 0. 0.]\n",
      " [0. 0. 1. 0. 0.]\n",
      " [0. 0. 0. 1. 0.]\n",
      " [0. 0. 0. 0. 1.]]\n"
     ]
    }
   ],
   "source": [
    "# podemos criar arrays tipificados \n",
    "# empty -> não são inicializados, é != de vazio\n",
    "\n",
    "# criando apenas o espaço na memoria da matriz que pode ser escolhida, mas apenas não é inicializado os valores que ocuparão cada espaço da matriz\n",
    "vazio = np.empty([3,2], dtype = int)\n",
    "print(vazio)\n",
    "\n",
    "pl()\n",
    "\n",
    "# criando matriz 4x3 com valores zero\n",
    "zeros = np.zeros([4,3])\n",
    "print(zeros)\n",
    "\n",
    "pl()\n",
    "\n",
    "#com valoes iguais a um \n",
    "um = np.ones([5,7])\n",
    "print(um)\n",
    "\n",
    "pl()\n",
    "\n",
    "# cria matriz quadrada com diagonal principal com valores 1 e os outros valores zero \n",
    "diagonal = np.eye(5)\n",
    "print(diagonal)"
   ]
  },
  {
   "cell_type": "code",
   "execution_count": 31,
   "id": "da8b2a9e-af9a-4be4-9aa5-6a6f1f30a113",
   "metadata": {},
   "outputs": [
    {
     "name": "stdout",
     "output_type": "stream",
     "text": [
      "[0.9402091  0.83029916 0.4843653  0.83140715 0.24008919]\n",
      "------------------------------\n",
      "[-0.11353357 -1.93259307  1.04823365  0.34786272 -1.08908265]\n",
      "------------------------------\n",
      "[[28.34480787 38.3277225  92.26637433 72.05673178]\n",
      " [36.67864376 74.71811144 55.58393427 29.49892863]\n",
      " [54.71872663 41.90955143 45.07040435 64.36597644]]\n"
     ]
    }
   ],
   "source": [
    "# criando valores aleatorios \n",
    "\n",
    "numero_ale = np.random.random((5))\n",
    "print(numero_ale)\n",
    "\n",
    "pl()\n",
    "\n",
    "# valores aleatorios, distribuicao normal contendo negativos \n",
    "numero_ale2 = np.random.randn((5))\n",
    "print(numero_ale2)\n",
    "\n",
    "pl()\n",
    "\n",
    "#valores aletorios 3x4\n",
    "ale3 = (100*np.random.random((3,4)))\n",
    "print(ale3)"
   ]
  },
  {
   "cell_type": "code",
   "execution_count": 42,
   "id": "55e0e67f-4c6c-417c-b5c1-0760b44b50f0",
   "metadata": {},
   "outputs": [
    {
     "name": "stdout",
     "output_type": "stream",
     "text": [
      "[0.95600171 0.20768181 0.82844489]\n",
      "[[5 1 8 5]\n",
      " [1 1 4 6]\n",
      " [4 8 0 4]]\n"
     ]
    }
   ],
   "source": [
    "# outra forma de gerar valores aleatorios\n",
    "\n",
    "#uso de semente\n",
    "gnr = np.random.default_rng(10)\n",
    "ale5 = gnr.random(3)\n",
    "print(ale5)\n",
    "\n",
    "# gerar inteiros em matriz 3x4\n",
    "ale6 = gnr.integers(10, size=(3,4))\n",
    "print(ale6)"
   ]
  },
  {
   "cell_type": "code",
   "execution_count": 43,
   "id": "be935f2a-7410-4955-8cbe-e5f4e4983fdd",
   "metadata": {},
   "outputs": [
    {
     "name": "stdout",
     "output_type": "stream",
     "text": [
      "[ 1  2  3  4  5  6  7 23]\n"
     ]
    }
   ],
   "source": [
    "# removendo repetições\n",
    "\n",
    "j = np.array([1,2,3,4,5,6,7,7,7,23,5,5,23,1,2])\n",
    "j = np.unique(j)\n",
    "print(j)"
   ]
  },
  {
   "cell_type": "code",
   "execution_count": 47,
   "id": "363d1dc5-15d1-462d-a0fe-596ca6ae06d6",
   "metadata": {},
   "outputs": [
    {
     "name": "stdout",
     "output_type": "stream",
     "text": [
      "[[17 22 43]\n",
      " [27 25 14]\n",
      " [15 24 32]]\n",
      "------------------------------\n",
      "43\n",
      "------------------------------\n",
      "(3, 3)\n"
     ]
    }
   ],
   "source": [
    "# funções especificas\n",
    "\n",
    "#cria a matriz bidimensional k \n",
    "k = np.array([[17,22,43],[27,25,14],[15,24,32]])\n",
    "print(k)\n",
    "\n",
    "pl()\n",
    "\n",
    "#mostra um elemento especifico \n",
    "print(k[0][2])\n",
    "\n",
    "pl()\n",
    "\n",
    "#mostra o tamanho das dimensões da matriz k \n",
    "print(k.shape)"
   ]
  },
  {
   "cell_type": "code",
   "execution_count": 49,
   "id": "1129add5-d70d-40a8-befc-63e36283dd4f",
   "metadata": {},
   "outputs": [
    {
     "name": "stdout",
     "output_type": "stream",
     "text": [
      "43\n",
      "14\n"
     ]
    }
   ],
   "source": [
    "# funcoes matematicas\n",
    "\n",
    "# mostra valor maximo da matriz k \n",
    "print(k.max())\n",
    "\n",
    "#mostra valor minimo da matriz k \n",
    "print(k.min())\n",
    "\n",
    "\n",
    "# !-----AULA CONTINUA COM A EXPLICAÇÃO DE UM MONTE DE FUNÇÕES MATEMÁTICAS------! "
   ]
  },
  {
   "cell_type": "code",
   "execution_count": null,
   "id": "e3af40b3-9295-4dca-b70b-8ba230a51830",
   "metadata": {},
   "outputs": [],
   "source": []
  }
 ],
 "metadata": {
  "kernelspec": {
   "display_name": "Python 3 (ipykernel)",
   "language": "python",
   "name": "python3"
  },
  "language_info": {
   "codemirror_mode": {
    "name": "ipython",
    "version": 3
   },
   "file_extension": ".py",
   "mimetype": "text/x-python",
   "name": "python",
   "nbconvert_exporter": "python",
   "pygments_lexer": "ipython3",
   "version": "3.9.13"
  }
 },
 "nbformat": 4,
 "nbformat_minor": 5
}
