{
 "cells": [
  {
   "cell_type": "code",
   "execution_count": 4,
   "id": "0f9160cb-a75b-4089-a9cd-30b92dd229d3",
   "metadata": {},
   "outputs": [
    {
     "name": "stdout",
     "output_type": "stream",
     "text": [
      "200\n",
      "Maior valor:  56\n",
      "Menor valor:  1\n",
      "Soma:  66\n",
      "Arredondamento:  2.4\n"
     ]
    }
   ],
   "source": [
    "# funcoes internas\n",
    "\n",
    "print(abs(-200))\n",
    "lista = [1,2,3,4,56]\n",
    "print('Maior valor: ', max(lista))\n",
    "print('Menor valor: ', min(lista))\n",
    "print('Soma: ', sum(lista))\n",
    "print('Arredondamento: ', round(2.39999, 2))"
   ]
  },
  {
   "cell_type": "code",
   "execution_count": 6,
   "id": "3c7ec9c3-7c20-4303-9bab-9d54c4473159",
   "metadata": {},
   "outputs": [
    {
     "name": "stdout",
     "output_type": "stream",
     "text": [
      "Média:  13.2\n",
      "Mediana:  3\n",
      "Moda:  1\n"
     ]
    }
   ],
   "source": [
    "# estatisticas\n",
    "\n",
    "from statistics import *\n",
    "print('Média: ', mean(lista))\n",
    "print('Mediana: ', median(lista))\n",
    "print('Moda: ', mode(lista))"
   ]
  },
  {
   "cell_type": "code",
   "execution_count": 7,
   "id": "2512e6f5-b089-464b-8775-4235e777bd99",
   "metadata": {},
   "outputs": [
    {
     "name": "stdout",
     "output_type": "stream",
     "text": [
      "Desvio:  23.95203540411545\n"
     ]
    }
   ],
   "source": [
    "# desvio padrão da amostra\n",
    "\n",
    "print('Desvio: ', stdev(lista))"
   ]
  },
  {
   "cell_type": "code",
   "execution_count": 8,
   "id": "eb2c9c8d-4ed5-4989-b78e-d917565b13a7",
   "metadata": {},
   "outputs": [
    {
     "name": "stdout",
     "output_type": "stream",
     "text": [
      "Varianca:  573.6999999999999\n"
     ]
    }
   ],
   "source": [
    "# varianca da amostra\n",
    "\n",
    "print('Varianca: ', variance(lista))"
   ]
  },
  {
   "cell_type": "code",
   "execution_count": 12,
   "id": "d0b63656-bbe5-496f-8bbe-6abad8f87143",
   "metadata": {},
   "outputs": [
    {
     "name": "stdout",
     "output_type": "stream",
     "text": [
      "<class 'numpy.ndarray'>\n",
      "[[0.83304097 0.98675048 0.54783105 0.95606775 0.72294115 0.85322653\n",
      "  0.05737688 0.82535578]\n",
      " [0.91651146 0.26451541 0.49855255 0.87217762 0.8523828  0.98277423\n",
      "  0.62924742 0.27368538]\n",
      " [0.53503583 0.75456371 0.57698548 0.91101633 0.14408468 0.72289434\n",
      "  0.04006082 0.90163474]\n",
      " [0.33021396 0.67878765 0.63424877 0.82633659 0.65954743 0.3749553\n",
      "  0.66020294 0.81300106]\n",
      " [0.77864156 0.30439428 0.4809679  0.18277993 0.71485154 0.14924819\n",
      "  0.30868361 0.02087432]\n",
      " [0.88142865 0.95377654 0.79677801 0.85984845 0.60350839 0.77559743\n",
      "  0.42587343 0.11984828]\n",
      " [0.0482739  0.67332106 0.23692801 0.4176332  0.23146852 0.77077875\n",
      "  0.60994715 0.00805408]\n",
      " [0.75906913 0.35194135 0.9192691  0.58799168 0.46452133 0.4306799\n",
      "  0.76159287 0.21093964]]\n"
     ]
    }
   ],
   "source": [
    "from numpy import *\n",
    "\n",
    "a = random.random((8,8))\n",
    "print(type(a))\n",
    "print(a)"
   ]
  },
  {
   "cell_type": "code",
   "execution_count": null,
   "id": "f3cc283d-d9da-4307-9e87-cf329c34bf17",
   "metadata": {},
   "outputs": [],
   "source": []
  }
 ],
 "metadata": {
  "kernelspec": {
   "display_name": "Python 3 (ipykernel)",
   "language": "python",
   "name": "python3"
  },
  "language_info": {
   "codemirror_mode": {
    "name": "ipython",
    "version": 3
   },
   "file_extension": ".py",
   "mimetype": "text/x-python",
   "name": "python",
   "nbconvert_exporter": "python",
   "pygments_lexer": "ipython3",
   "version": "3.9.13"
  }
 },
 "nbformat": 4,
 "nbformat_minor": 5
}
