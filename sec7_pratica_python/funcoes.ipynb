{
 "cells": [
  {
   "cell_type": "code",
   "execution_count": 1,
   "id": "f814e832-7a40-4687-b0ae-339e6a7899c2",
   "metadata": {},
   "outputs": [
    {
     "name": "stdout",
     "output_type": "stream",
     "text": [
      "Isso é uma Função\n"
     ]
    }
   ],
   "source": [
    "# definindo uma função\n",
    "\n",
    "def imprime():\n",
    "    print('Isso é uma Função')\n",
    "    \n",
    "# toda funcao começa com 'def' \n",
    "# a seguir vem o nome com os parametros\n",
    "\n",
    "imprime()"
   ]
  },
  {
   "cell_type": "code",
   "execution_count": 2,
   "id": "44c6966c-60f5-4859-ac89-70ba294089de",
   "metadata": {},
   "outputs": [
    {
     "name": "stdout",
     "output_type": "stream",
     "text": [
      "Alguma Coisa\n"
     ]
    }
   ],
   "source": [
    "# com parametros\n",
    "\n",
    "def imprime(n):\n",
    "    print(n)\n",
    "    \n",
    "imprime('Alguma Coisa')"
   ]
  },
  {
   "cell_type": "code",
   "execution_count": 3,
   "id": "98284c27-f6a3-4378-baa0-bc928d103db0",
   "metadata": {},
   "outputs": [
    {
     "name": "stdout",
     "output_type": "stream",
     "text": [
      "3\n"
     ]
    }
   ],
   "source": [
    "# sem parametros\n",
    "\n",
    "def soma (numero1, numero2):\n",
    "    return (numero1 + numero2)\n",
    "\n",
    "x = soma(1,2)\n",
    "print(x)"
   ]
  },
  {
   "cell_type": "code",
   "execution_count": 8,
   "id": "c45a83b5-a0d9-4874-ac05-20c5f9b0f886",
   "metadata": {},
   "outputs": [
    {
     "name": "stdout",
     "output_type": "stream",
     "text": [
      "1\n",
      "2\n",
      "3\n",
      "4\n",
      "5\n",
      "6\n",
      "7\n",
      "8\n",
      "9\n",
      "10\n",
      "1\n",
      "2\n",
      "3\n",
      "4\n",
      "5\n",
      "6\n",
      "7\n",
      "8\n",
      "9\n",
      "10\n"
     ]
    }
   ],
   "source": [
    "# com valor default\n",
    "\n",
    "def intervalo ( inic = 1, final = 10):\n",
    "    for inic in range (1 , final+1):\n",
    "        print(inic)\n",
    "\n",
    "x = intervalo(1,10)\n",
    "y = intervalo()"
   ]
  },
  {
   "cell_type": "code",
   "execution_count": null,
   "id": "735d0048-3918-4c3b-b9e7-b26e832be8ce",
   "metadata": {},
   "outputs": [],
   "source": []
  }
 ],
 "metadata": {
  "kernelspec": {
   "display_name": "Python 3 (ipykernel)",
   "language": "python",
   "name": "python3"
  },
  "language_info": {
   "codemirror_mode": {
    "name": "ipython",
    "version": 3
   },
   "file_extension": ".py",
   "mimetype": "text/x-python",
   "name": "python",
   "nbconvert_exporter": "python",
   "pygments_lexer": "ipython3",
   "version": "3.9.13"
  }
 },
 "nbformat": 4,
 "nbformat_minor": 5
}
