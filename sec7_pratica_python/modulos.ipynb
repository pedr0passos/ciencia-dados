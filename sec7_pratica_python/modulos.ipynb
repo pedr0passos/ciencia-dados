{
 "cells": [
  {
   "cell_type": "code",
   "execution_count": 1,
   "id": "427eb03a-7821-4b8d-920f-ffe5a0bd3de1",
   "metadata": {},
   "outputs": [
    {
     "name": "stdout",
     "output_type": "stream",
     "text": [
      "25\n",
      "25.0\n"
     ]
    }
   ],
   "source": [
    "# importando a biblioteca statistics\n",
    "import statistics as st\n",
    "\n",
    "z = [10,20,30,40]\n",
    "x = st.mean(z)\n",
    "y = st.median(z)\n",
    "print(x)\n",
    "print(y)"
   ]
  },
  {
   "cell_type": "code",
   "execution_count": 2,
   "id": "a3fc1a41-8f7e-4bb0-84ae-d9bfb26888f3",
   "metadata": {},
   "outputs": [
    {
     "name": "stdout",
     "output_type": "stream",
     "text": [
      "25\n",
      "25.0\n"
     ]
    }
   ],
   "source": [
    "# importanto a biblioteca statistics com o *\n",
    "from statistics import *\n",
    "\n",
    "z = [10,20,30,40]\n",
    "x = mean(z)\n",
    "y = median(z)\n",
    "print(x)\n",
    "print(y)"
   ]
  },
  {
   "cell_type": "code",
   "execution_count": null,
   "id": "58c4206c-77a3-47ca-ab25-79d133d65dfc",
   "metadata": {},
   "outputs": [],
   "source": [
    "# todas as formas:\n",
    "\n",
    "# import statistics \n",
    "# import statistics as st\n",
    "# from statistics import x,y,z...\n",
    "# from statistics import *"
   ]
  }
 ],
 "metadata": {
  "kernelspec": {
   "display_name": "Python 3 (ipykernel)",
   "language": "python",
   "name": "python3"
  },
  "language_info": {
   "codemirror_mode": {
    "name": "ipython",
    "version": 3
   },
   "file_extension": ".py",
   "mimetype": "text/x-python",
   "name": "python",
   "nbconvert_exporter": "python",
   "pygments_lexer": "ipython3",
   "version": "3.9.13"
  }
 },
 "nbformat": 4,
 "nbformat_minor": 5
}
