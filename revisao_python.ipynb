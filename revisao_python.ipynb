{
 "cells": [
  {
   "cell_type": "code",
   "execution_count": 1,
   "id": "29688e47-c195-489e-82d4-0a380c668aa4",
   "metadata": {
    "tags": []
   },
   "outputs": [
    {
     "name": "stdout",
     "output_type": "stream",
     "text": [
      "Reprovado\n"
     ]
    }
   ],
   "source": [
    "nota = 4\n",
    "if nota >= 7:\n",
    "    print('Aprovado')\n",
    "elif 4 < nota <= 6:\n",
    "    print('Em Exame')\n",
    "else:\n",
    "    print('Reprovado')"
   ]
  },
  {
   "cell_type": "code",
   "execution_count": 2,
   "id": "16a5ec20-7181-4b37-b793-475c189e51f1",
   "metadata": {
    "tags": []
   },
   "outputs": [
    {
     "name": "stdout",
     "output_type": "stream",
     "text": [
      "0\n",
      "1\n",
      "2\n",
      "3\n",
      "4\n",
      "5\n"
     ]
    }
   ],
   "source": [
    "# while em python \n",
    "contador = 0\n",
    "while contador <= 5:\n",
    "    print(contador)\n",
    "    contador += 1"
   ]
  },
  {
   "cell_type": "code",
   "execution_count": 3,
   "id": "517998f6-3fcf-4c6c-bfef-b5ae2271a9dd",
   "metadata": {
    "tags": []
   },
   "outputs": [
    {
     "name": "stdout",
     "output_type": "stream",
     "text": [
      "1\n",
      "2\n",
      "3\n",
      "4\n",
      "5\n",
      "6\n",
      "7\n",
      "8\n",
      "9\n",
      "10\n",
      "10\n",
      "9\n",
      "8\n",
      "7\n",
      "6\n",
      "5\n",
      "4\n",
      "3\n",
      "2\n",
      "1\n"
     ]
    }
   ],
   "source": [
    "# for em python\n",
    "# range(inicio, parada, incremento)\n",
    "\n",
    "# for com incremento \n",
    "for n in range(0,10):\n",
    "    print(n+1)\n",
    "    \n",
    "# for com decremento \n",
    "for n in range(10, 0, -1):\n",
    "    print(n)"
   ]
  },
  {
   "cell_type": "code",
   "execution_count": 4,
   "id": "9ea0c79d-3851-4497-8ddd-d683ffae55a0",
   "metadata": {
    "tags": []
   },
   "outputs": [
    {
     "name": "stdout",
     "output_type": "stream",
     "text": [
      "0\n",
      "1\n",
      "2\n",
      "3\n",
      "4\n"
     ]
    }
   ],
   "source": [
    "# for com break \n",
    "\n",
    "for n in range (0,10):\n",
    "    if n == 5:\n",
    "        break\n",
    "    print(n)"
   ]
  },
  {
   "cell_type": "code",
   "execution_count": 5,
   "id": "b8834bf6-f576-4fa3-8f6f-f1b4b539feea",
   "metadata": {
    "tags": []
   },
   "outputs": [
    {
     "name": "stdout",
     "output_type": "stream",
     "text": [
      "0\n",
      "1\n",
      "2\n",
      "4\n",
      "6\n",
      "7\n",
      "8\n",
      "9\n"
     ]
    }
   ],
   "source": [
    "# for com continue \n",
    "\n",
    "for n in range (0,10):\n",
    "    if n == 3 or n == 5:\n",
    "        continue\n",
    "    print(n)"
   ]
  },
  {
   "cell_type": "code",
   "execution_count": 6,
   "id": "d38ddc1d-85bc-483f-b6fb-3659bfab781f",
   "metadata": {},
   "outputs": [
    {
     "name": "stdout",
     "output_type": "stream",
     "text": [
      "[1, 2, 3, 4, 5]\n"
     ]
    }
   ],
   "source": [
    "# Listas em python\n",
    "\n",
    "lista1 = [1,2,3,4,5]\n",
    "print(lista1)"
   ]
  },
  {
   "cell_type": "code",
   "execution_count": 7,
   "id": "ce0c0d2a-98e5-4cfc-b628-7d7633e60734",
   "metadata": {},
   "outputs": [
    {
     "name": "stdout",
     "output_type": "stream",
     "text": [
      "[<class 'int'>, 2, 3, <class 'str'>, <class 'float'>, <class 'bool'>]\n"
     ]
    }
   ],
   "source": [
    "# Vários tipos em uma unica lista\n",
    "\n",
    "lista2 = [type(1),2,3,type('a'), type(1.234243), type(True)]\n",
    "print(lista2)"
   ]
  },
  {
   "cell_type": "code",
   "execution_count": 8,
   "id": "1d9dbdcc-ae50-42c4-be0d-6a7c1379cbd3",
   "metadata": {},
   "outputs": [
    {
     "name": "stdout",
     "output_type": "stream",
     "text": [
      "[1, 2, 3, 'a', 1.234243, True, [1, 2, 3, 4, 5]]\n"
     ]
    }
   ],
   "source": [
    "# colocando a lista1 dentro da lista2 \n",
    "lista1 = [1,2,3,4,5]\n",
    "lista2 = [1,2,3,'a', 1.234243, True, lista1]\n",
    "print(lista2)"
   ]
  },
  {
   "cell_type": "code",
   "execution_count": 9,
   "id": "f187fd4e-3bda-49db-8071-658444da3265",
   "metadata": {},
   "outputs": [
    {
     "name": "stdout",
     "output_type": "stream",
     "text": [
      "{'João': 6.0, 'Pedro': 7.0, 'Maria': 9.0}\n"
     ]
    }
   ],
   "source": [
    "# Dicionarios\n",
    "# estrutura: chave/valor\n",
    "\n",
    "notas = {'João': 6.0, 'Pedro': 7.0, 'Maria': 9.0}\n",
    "print(notas)"
   ]
  },
  {
   "cell_type": "code",
   "execution_count": 11,
   "id": "0a67e5ec-40c8-4bb6-a44f-e3d78971e0f6",
   "metadata": {},
   "outputs": [
    {
     "data": {
      "text/plain": [
       "dict_keys(['João', 'Pedro', 'Maria'])"
      ]
     },
     "execution_count": 11,
     "metadata": {},
     "output_type": "execute_result"
    }
   ],
   "source": [
    "notas.keys()"
   ]
  },
  {
   "cell_type": "code",
   "execution_count": 12,
   "id": "9edc6150-886c-4f54-9f48-6fc063120d9a",
   "metadata": {},
   "outputs": [
    {
     "data": {
      "text/plain": [
       "dict_values([6.0, 7.0, 9.0])"
      ]
     },
     "execution_count": 12,
     "metadata": {},
     "output_type": "execute_result"
    }
   ],
   "source": [
    "notas.values()"
   ]
  },
  {
   "cell_type": "code",
   "execution_count": 14,
   "id": "c873b18b-16ed-4558-a28f-6d0d33bfa7a5",
   "metadata": {},
   "outputs": [
    {
     "name": "stdout",
     "output_type": "stream",
     "text": [
      "True\n",
      "False\n"
     ]
    }
   ],
   "source": [
    "# Testando logicamente\n",
    "\n",
    "print('João' in notas)\n",
    "print('Fernando' in notas)"
   ]
  },
  {
   "cell_type": "code",
   "execution_count": 15,
   "id": "4923b1ca-b216-4339-ab6e-54926eca630f",
   "metadata": {},
   "outputs": [
    {
     "name": "stdout",
     "output_type": "stream",
     "text": [
      "{'João': 6.0, 'Pedro': 7.0, 'Maria': 9.0, 'Catterina': 10}\n"
     ]
    }
   ],
   "source": [
    "# Incluindo um elemento\n",
    "\n",
    "notas['Catterina'] = 10\n",
    "print(notas)"
   ]
  },
  {
   "cell_type": "code",
   "execution_count": 16,
   "id": "1b289d9e-ddb2-45a5-b9d5-6b2b4034f7ab",
   "metadata": {},
   "outputs": [
    {
     "data": {
      "text/plain": [
       "10"
      ]
     },
     "execution_count": 16,
     "metadata": {},
     "output_type": "execute_result"
    }
   ],
   "source": [
    "# Buscando um valor \n",
    "\n",
    "notas.get('Catterina', 'Não encontrado!')\n"
   ]
  },
  {
   "cell_type": "code",
   "execution_count": 17,
   "id": "271e743d-424d-4896-8c38-a3a48eae0232",
   "metadata": {},
   "outputs": [
    {
     "name": "stdout",
     "output_type": "stream",
     "text": [
      "{'Sqoop', 'Spark', 'Hive'}\n"
     ]
    }
   ],
   "source": [
    "# sets são conjuntos não ordenados de elementos não repetidos\n",
    "\n",
    "bigdata = {'Spark', 'Hive', 'Sqoop'}\n",
    "print(bigdata)"
   ]
  },
  {
   "cell_type": "code",
   "execution_count": 18,
   "id": "88b7a34f-f6bc-41bd-be3f-bcf386af7324",
   "metadata": {},
   "outputs": [
    {
     "name": "stdout",
     "output_type": "stream",
     "text": [
      "{'Hadoop', 'Sqoop', 'Spark', 'Hive'}\n"
     ]
    }
   ],
   "source": [
    "# adiciona elemento\n",
    "\n",
    "bigdata.add('Hadoop')\n",
    "print(bigdata)"
   ]
  },
  {
   "cell_type": "code",
   "execution_count": 19,
   "id": "6681b9b8-65ec-4d70-9bec-1b98129b3196",
   "metadata": {},
   "outputs": [
    {
     "name": "stdout",
     "output_type": "stream",
     "text": [
      "(1, 2, 3, 4, 5, 6)\n"
     ]
    }
   ],
   "source": [
    "# tuplas são listas que não podem ser alteradas\n",
    "\n",
    "tupla = (1,2,3,4,5,6)\n",
    "print(tupla)"
   ]
  },
  {
   "cell_type": "code",
   "execution_count": 20,
   "id": "8e982c01-b495-4595-8b7a-5b46825977c0",
   "metadata": {},
   "outputs": [
    {
     "data": {
      "text/plain": [
       "(1, 2, 3, 4, 5, 6)"
      ]
     },
     "execution_count": 20,
     "metadata": {},
     "output_type": "execute_result"
    }
   ],
   "source": [
    "tupla"
   ]
  },
  {
   "cell_type": "code",
   "execution_count": 21,
   "id": "07ac5708-ba0f-4bcc-909b-26d768f11f96",
   "metadata": {},
   "outputs": [
    {
     "data": {
      "text/plain": [
       "{(1, 2, 3, 4, 5, 6): 10}"
      ]
     },
     "execution_count": 21,
     "metadata": {},
     "output_type": "execute_result"
    }
   ],
   "source": [
    "dicionario2 = {tupla:10}\n",
    "dicionario2\n"
   ]
  },
  {
   "cell_type": "code",
   "execution_count": null,
   "id": "9dbc7729-b572-4f21-b695-c15d92cc7cac",
   "metadata": {},
   "outputs": [],
   "source": []
  }
 ],
 "metadata": {
  "kernelspec": {
   "display_name": "Python 3 (ipykernel)",
   "language": "python",
   "name": "python3"
  },
  "language_info": {
   "codemirror_mode": {
    "name": "ipython",
    "version": 3
   },
   "file_extension": ".py",
   "mimetype": "text/x-python",
   "name": "python",
   "nbconvert_exporter": "python",
   "pygments_lexer": "ipython3",
   "version": "3.9.13"
  }
 },
 "nbformat": 4,
 "nbformat_minor": 5
}
