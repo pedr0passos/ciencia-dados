{
 "cells": [
  {
   "cell_type": "code",
   "execution_count": 1,
   "id": "0a0710c9-6f6f-4f3a-ac93-19452d65ef62",
   "metadata": {},
   "outputs": [],
   "source": [
    "from scipy.stats import norm"
   ]
  },
  {
   "cell_type": "code",
   "execution_count": 3,
   "id": "46f96ccc-e278-46a7-82ea-0e25312c6c79",
   "metadata": {},
   "outputs": [
    {
     "data": {
      "text/plain": [
       "15.865525393145708"
      ]
     },
     "execution_count": 3,
     "metadata": {},
     "output_type": "execute_result"
    }
   ],
   "source": [
    "# conjunto de objetos em uma cesta, a média é 8 e o desvio padrao e 2 \n",
    "# qual a probabilidade de tirar um objeto que peso é menor que 6 quilos ?\n",
    "norm.cdf(6,8,2)"
   ]
  },
  {
   "cell_type": "code",
   "execution_count": 4,
   "id": "1ce4e269-403c-4252-8ee7-51a46bad27ad",
   "metadata": {},
   "outputs": [
    {
     "data": {
      "text/plain": [
       "0.8413447460685429"
      ]
     },
     "execution_count": 4,
     "metadata": {},
     "output_type": "execute_result"
    }
   ],
   "source": [
    "# qual a probabilidade de tirar um objeto que é maior que 6 quilos?\n",
    "norm.sf(6,8,2)"
   ]
  },
  {
   "cell_type": "code",
   "execution_count": 6,
   "id": "cdbf9393-55f6-4839-b35b-4afcc3997bac",
   "metadata": {},
   "outputs": [
    {
     "data": {
      "text/plain": [
       "0.31731050786291415"
      ]
     },
     "execution_count": 6,
     "metadata": {},
     "output_type": "execute_result"
    }
   ],
   "source": [
    "# portando -> norm.cdf(x) + norm.s(x) = 1 ou 100%\n",
    "# ontinuando\n",
    "# qual a probabilidade de tirar um objeto que o peso é menor que 6 ou maior que 10 quilos?\n",
    "norm.cdf(6,8,2) + norm.sf(10,8,2)"
   ]
  },
  {
   "cell_type": "code",
   "execution_count": 7,
   "id": "6d92aecd-2089-41c8-9c36-db8f040eed70",
   "metadata": {},
   "outputs": [
    {
     "data": {
      "text/plain": [
       "0.3413447460685429"
      ]
     },
     "execution_count": 7,
     "metadata": {},
     "output_type": "execute_result"
    }
   ],
   "source": [
    "# qual a probabilidade de tirar um objeto que o peso é menor que 10 e maior que 8 quilos ?\n",
    "norm.cdf(10,8,2) - norm.cdf(8,8,2)"
   ]
  },
  {
   "cell_type": "code",
   "execution_count": null,
   "id": "66fbd68b-9bb7-4611-8ee3-9793fc9adaef",
   "metadata": {},
   "outputs": [],
   "source": []
  }
 ],
 "metadata": {
  "kernelspec": {
   "display_name": "Python 3 (ipykernel)",
   "language": "python",
   "name": "python3"
  },
  "language_info": {
   "codemirror_mode": {
    "name": "ipython",
    "version": 3
   },
   "file_extension": ".py",
   "mimetype": "text/x-python",
   "name": "python",
   "nbconvert_exporter": "python",
   "pygments_lexer": "ipython3",
   "version": "3.9.13"
  }
 },
 "nbformat": 4,
 "nbformat_minor": 5
}
